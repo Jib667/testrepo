{
 "cells": [
  {
   "cell_type": "markdown",
   "id": "bce6cc2c-533c-46bc-a31e-d145305a0eae",
   "metadata": {},
   "source": [
    "# Data Science Tools and Ecosystem"
   ]
  },
  {
   "cell_type": "markdown",
   "id": "de952d38-f994-49ff-8b57-48a7c5dd5520",
   "metadata": {},
   "source": [
    "### In this notebook, Data Science Tools and Ecosystem are summarized."
   ]
  },
  {
   "cell_type": "code",
   "execution_count": null,
   "id": "488fb23a-54af-42f6-99e9-5d81eb023c84",
   "metadata": {},
   "outputs": [],
   "source": [
    "#### **Objectives**\n",
    "* List popular languages in Data Science\n",
    "* List commonly used libraries in Data Science\n",
    "* List Data Science tools used in Data Science\n",
    "* Show arithmetic using python\n",
    "* Show time arithmetic using python"
   ]
  },
  {
   "cell_type": "markdown",
   "id": "0c2358e3-09c6-4f0c-b325-58e33115699b",
   "metadata": {},
   "source": [
    "#### Some of the popular languages that Data Scientists use are:\n",
    "1. Python\n",
    "2. R Language \n",
    "3. SQL"
   ]
  },
  {
   "cell_type": "markdown",
   "id": "317088b7-a40f-4e67-8fe5-5f3d5479ac24",
   "metadata": {},
   "source": [
    "#### Some of the commonly used libraries used by Data Scientists include: \n",
    "1. TensorFlow\n",
    "2. NumPy\n",
    "3. Pandas"
   ]
  },
  {
   "cell_type": "markdown",
   "id": "3f895ecd-1621-4e06-a5ed-f8beae64eae5",
   "metadata": {},
   "source": [
    "|Data Science Tools|\n",
    "|------------------|\n",
    "|Jupyter|\n",
    "|Apache Zepplin|\n",
    "|Apache Spark|"
   ]
  },
  {
   "cell_type": "markdown",
   "id": "37d647d5-08b3-446f-a781-0dd6698ad172",
   "metadata": {},
   "source": [
    "### Below are a few examples of evaluating arithmetic expressions in Python"
   ]
  },
  {
   "cell_type": "code",
   "execution_count": 2,
   "id": "51c08ec4-0288-4b05-8de1-b6f4e20dfbc3",
   "metadata": {},
   "outputs": [
    {
     "data": {
      "text/plain": [
       "17"
      ]
     },
     "execution_count": 2,
     "metadata": {},
     "output_type": "execute_result"
    }
   ],
   "source": [
    "# This a simple arithmetic expression to mutiply then add integers\n",
    "(3*4)+5"
   ]
  },
  {
   "cell_type": "code",
   "execution_count": 3,
   "id": "720afe76-7c09-49ca-8705-2769d854b266",
   "metadata": {},
   "outputs": [
    {
     "data": {
      "text/plain": [
       "3.3333333333333335"
      ]
     },
     "execution_count": 3,
     "metadata": {},
     "output_type": "execute_result"
    }
   ],
   "source": [
    "# This will convert 200 minutes to hours by diving by 60\n",
    "(200/60)"
   ]
  },
  {
   "cell_type": "markdown",
   "id": "8aa58a8f-853e-4df9-90ef-4f3bee066295",
   "metadata": {},
   "source": [
    "## Author\n",
    "Jibran Hutchins"
   ]
  },
  {
   "cell_type": "code",
   "execution_count": null,
   "id": "b7711b3c-8fbd-410d-830c-f0efdd86f159",
   "metadata": {},
   "outputs": [],
   "source": []
  }
 ],
 "metadata": {
  "kernelspec": {
   "display_name": "Python 3 (ipykernel)",
   "language": "python",
   "name": "python3"
  },
  "language_info": {
   "codemirror_mode": {
    "name": "ipython",
    "version": 3
   },
   "file_extension": ".py",
   "mimetype": "text/x-python",
   "name": "python",
   "nbconvert_exporter": "python",
   "pygments_lexer": "ipython3",
   "version": "3.11.7"
  }
 },
 "nbformat": 4,
 "nbformat_minor": 5
}
